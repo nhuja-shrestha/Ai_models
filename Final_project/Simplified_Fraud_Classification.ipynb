{
 "cells": [
  {
   "cell_type": "markdown",
   "id": "464e783a",
   "metadata": {},
   "source": [
    "# Credit Card Fraud Detection - Simplified Version\n",
    "\n",
    "This notebook performs basic data analysis and classification using Logistic Regression and Random Forest."
   ]
  },
  {
   "cell_type": "code",
   "execution_count": null,
   "id": "a082f3f7",
   "metadata": {},
   "outputs": [],
   "source": [
    "import pandas as pd\n",
    "import numpy as np\n",
    "import seaborn as sns\n",
    "import matplotlib.pyplot as plt\n",
    "from sklearn.model_selection import train_test_split\n",
    "from sklearn.linear_model import LogisticRegression\n",
    "from sklearn.ensemble import RandomForestClassifier\n",
    "from sklearn.preprocessing import StandardScaler\n",
    "from sklearn.metrics import classification_report, confusion_matrix, accuracy_score"
   ]
  },
  {
   "cell_type": "markdown",
   "id": "0f74aa45",
   "metadata": {},
   "source": [
    "## Load and Inspect Dataset"
   ]
  },
  {
   "cell_type": "code",
   "execution_count": null,
   "id": "6be24c17",
   "metadata": {},
   "outputs": [],
   "source": [
    "df = pd.read_csv('/content/drive/MyDrive/capstone project/creditcard.csv')\n",
    "df = df.drop_duplicates()\n",
    "df.head()"
   ]
  },
  {
   "cell_type": "markdown",
   "id": "d5e94f3e",
   "metadata": {},
   "source": [
    "## Check Class Distribution"
   ]
  },
  {
   "cell_type": "code",
   "execution_count": null,
   "id": "1ff5f079",
   "metadata": {},
   "outputs": [],
   "source": [
    "print(df['Class'].value_counts())\n",
    "legit = df[df['Class'] == 0]\n",
    "fraud = df[df['Class'] == 1]"
   ]
  },
  {
   "cell_type": "markdown",
   "id": "2450f4b0",
   "metadata": {},
   "source": [
    "## Sample Legit Transactions to Balance the Dataset"
   ]
  },
  {
   "cell_type": "code",
   "execution_count": null,
   "id": "1fe32c9d",
   "metadata": {},
   "outputs": [],
   "source": [
    "legit_sample = legit.sample(n=len(fraud), random_state=42)\n",
    "balanced_df = pd.concat([legit_sample, fraud])\n",
    "print(balanced_df['Class'].value_counts())"
   ]
  },
  {
   "cell_type": "markdown",
   "id": "be845d70",
   "metadata": {},
   "source": [
    "## Prepare Features and Target"
   ]
  },
  {
   "cell_type": "code",
   "execution_count": null,
   "id": "99086332",
   "metadata": {},
   "outputs": [],
   "source": [
    "X = balanced_df.drop(columns='Class')\n",
    "y = balanced_df['Class']"
   ]
  },
  {
   "cell_type": "markdown",
   "id": "1badf596",
   "metadata": {},
   "source": [
    "## Train-Test Split"
   ]
  },
  {
   "cell_type": "code",
   "execution_count": null,
   "id": "cd6c394e",
   "metadata": {},
   "outputs": [],
   "source": [
    "X_train, X_test, y_train, y_test = train_test_split(X, y, test_size=0.2, random_state=42, stratify=y)"
   ]
  },
  {
   "cell_type": "markdown",
   "id": "30d2302b",
   "metadata": {},
   "source": [
    "## Scale the Features"
   ]
  },
  {
   "cell_type": "code",
   "execution_count": null,
   "id": "c28d2971",
   "metadata": {},
   "outputs": [],
   "source": [
    "scaler = StandardScaler()\n",
    "X_train = scaler.fit_transform(X_train)\n",
    "X_test = scaler.transform(X_test)"
   ]
  },
  {
   "cell_type": "markdown",
   "id": "d414069f",
   "metadata": {},
   "source": [
    "## Train Logistic Regression"
   ]
  },
  {
   "cell_type": "code",
   "execution_count": null,
   "id": "8f0c0f9d",
   "metadata": {},
   "outputs": [],
   "source": [
    "lr = LogisticRegression(max_iter=1000)\n",
    "lr.fit(X_train, y_train)\n",
    "y_pred_lr = lr.predict(X_test)\n",
    "print('Logistic Regression Results:')\n",
    "print(classification_report(y_test, y_pred_lr))\n",
    "print('Confusion Matrix:\\n', confusion_matrix(y_test, y_pred_lr))"
   ]
  },
  {
   "cell_type": "markdown",
   "id": "f6899252",
   "metadata": {},
   "source": [
    "## Train Random Forest Classifier"
   ]
  },
  {
   "cell_type": "code",
   "execution_count": null,
   "id": "58eff0be",
   "metadata": {},
   "outputs": [],
   "source": [
    "rf = RandomForestClassifier(random_state=42)\n",
    "rf.fit(X_train, y_train)\n",
    "y_pred_rf = rf.predict(X_test)\n",
    "print('Random Forest Results:')\n",
    "print(classification_report(y_test, y_pred_rf))\n",
    "print('Confusion Matrix:\\n', confusion_matrix(y_test, y_pred_rf))"
   ]
  }
 ],
 "metadata": {},
 "nbformat": 4,
 "nbformat_minor": 5
}
